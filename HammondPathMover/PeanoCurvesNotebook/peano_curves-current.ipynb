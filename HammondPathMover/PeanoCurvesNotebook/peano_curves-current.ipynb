{
 "cells": [
  {
   "cell_type": "code",
   "execution_count": 2,
   "id": "cc71a181",
   "metadata": {},
   "outputs": [],
   "source": [
    "from SquareBoard import Board\n",
    "import numpy as np\n",
    "import matplotlib.pyplot as plt\n",
    "import pylab as pl\n",
    "from matplotlib import collections  as mc\n",
    "import copy\n"
   ]
  },
  {
   "cell_type": "code",
   "execution_count": 56,
   "id": "e2ab33c0",
   "metadata": {},
   "outputs": [],
   "source": [
    "n = 2000\n",
    "\n",
    "B = Board(n, 1)\n",
    "\n",
    "tree_segments = []\n",
    "gem_tree_segments = []\n",
    "\n",
    "for i in range(n):\n",
    "    for j in range(n):\n",
    "        move = B.move_array[i,j]\n",
    "            \n",
    "        place = np.array([i,j])\n",
    "\n",
    "        if i != 0 or j!= 0:\n",
    "\n",
    "            tree_segments.append([place, move])\n",
    "\n",
    "            move_is_horiz = (move[0] == i)\n",
    "            if move_is_horiz:\n",
    "                shift = np.array([-0.5,0.5])\n",
    "            else:\n",
    "                shift = -np.array([-0.5,0.5])\n",
    "\n",
    "            if i != 0 and j != 0:\n",
    "                gem_tree_segments.append([move + shift, place + shift])    \n",
    "\n",
    "for i in range(n-1):\n",
    "    gem_tree_segments.append([(i + 0.5, n - 0.5), (i+1.5, n - 0.5)])\n",
    "    gem_tree_segments.append([(n - 0.5, i + 0.5), (n - 0.5, i+1.5)]) \n"
   ]
  },
  {
   "cell_type": "code",
   "execution_count": null,
   "id": "5352bd97",
   "metadata": {},
   "outputs": [],
   "source": [
    "peano_curve_segments = []\n",
    "\n",
    "for is_up, segments in enumerate([np.array(tree_segments), np.array(gem_tree_segments)]):\n",
    "    for line in segments:\n",
    "        is_horiz = line[1,0] - line[0,0] == 0 \n",
    "\n",
    "        is_up_factor = 2 * is_up - 1 #record if pointing up or right\n",
    " \n",
    "        for i in (-1,1):\n",
    "            \n",
    "            reverse = (i == 1) != (is_horiz)\n",
    "\n",
    "            if is_horiz:\n",
    "                shift = np.array([[0.25, 0], [0.25,0]])\n",
    "                shrink_matrix = is_up_factor * np.array([[0,0.25], [0 ,-0.25]])\n",
    "            \n",
    "            else:\n",
    "                shift = np.array([[0, 0.25], [0, 0.25]])\n",
    "                shrink_matrix = is_up_factor * np.array([[0.25, 0], [-0.25, 0]])\n",
    "                \n",
    "            seg = line + shrink_matrix + i * shift\n",
    "\n",
    "            if np.all(seg[1 - is_horiz] >= 0) and np.all(seg[1 - is_horiz] < n-0.5):\n",
    "\n",
    "                if reverse:\n",
    "                    peano_curve_segments.append(np.flip(seg, axis = 0))\n",
    "                else:\n",
    "                    peano_curve_segments.append(seg)\n"
   ]
  },
  {
   "cell_type": "code",
   "execution_count": null,
   "id": "f96fa1f7",
   "metadata": {},
   "outputs": [],
   "source": [
    "\n",
    "def shift(x):\n",
    "    return (2 * x - 0.5).astype(int)\n",
    "\n",
    "peano_curve_shift_matrix = np.zeros((2*n - 1, 2*n - 1, 2), dtype = int)\n",
    "\n",
    "for seg in peano_curve_segments:  \n",
    "    peano_curve_shift_matrix[tuple(shift(seg[0]))] = shift(seg[1])\n",
    " \n",
    "# print(peano_curve_shift_matrix)"
   ]
  },
  {
   "cell_type": "code",
   "execution_count": null,
   "id": "06474ae9",
   "metadata": {},
   "outputs": [],
   "source": [
    "i = np.array([0,2 * n - 2], dtype = int)\n",
    "\n",
    "points = []\n",
    "for j in range(4 * n**2):\n",
    "    points.append(copy.deepcopy(i))\n",
    "\n",
    "    if np.all(i == np.array([2 * n - 2, 0])):\n",
    "        break\n",
    "    \n",
    "    \n",
    "    i = peano_curve_shift_matrix[tuple(i)]\n",
    "    \n",
    "    \n",
    "    \n",
    "#     for j in points:\n",
    "#         if np.all(i==j):\n",
    "#             break\n",
    "    \n",
    "\n"
   ]
  },
  {
   "cell_type": "code",
   "execution_count": null,
   "id": "559655fc",
   "metadata": {},
   "outputs": [],
   "source": [
    "from print_stuff import show_trees\n",
    "from print_stuff import show_curve\n"
   ]
  },
  {
   "cell_type": "code",
   "execution_count": null,
   "id": "f24b72c6",
   "metadata": {},
   "outputs": [],
   "source": [
    "show_curve(points)\n",
    "# print(len(points))\n",
    "print(4 * n**2 - 4 * n + 1)\n"
   ]
  },
  {
   "cell_type": "code",
   "execution_count": null,
   "id": "c18a25e6",
   "metadata": {},
   "outputs": [],
   "source": [
    "#show_trees([], [], peano_curve_segments)\n"
   ]
  },
  {
   "cell_type": "code",
   "execution_count": null,
   "id": "0ecbcf2b",
   "metadata": {},
   "outputs": [],
   "source": [
    "import random\n",
    "import math \n",
    "\n",
    "time_data = []\n",
    "antidiag_dist_data = []\n",
    "diag_dist_data = []\n",
    "\n",
    "num_trials = 10**3\n",
    "\n",
    "def antidiag_dist(point):\n",
    "    return (point[0] - point[1]) * math.sqrt(2)/2 \n",
    "\n",
    "def diag_dist(point):\n",
    "    return (point[0] + point[1]) * math.sqrt(2)/2\n",
    "\n",
    "\n",
    "num_points = 4 * n**2 - 4 * n + 1\n",
    "for trial in range(num_trials):\n",
    "    i = random.randint(0, num_points - 1)\n",
    "    j = random.randint(min(i + 1 + 6*n, num_points - 2), num_points - 1)\n",
    "    time_data.append(j-i)\n",
    "    antidiag_dist_data.append(abs(antidiag_dist(points[j] - points[i])))\n",
    "    diag_dist_data.append(diag_dist(points[j] - points[i]))\n",
    "\n",
    "    "
   ]
  },
  {
   "cell_type": "code",
   "execution_count": null,
   "id": "4a1632da",
   "metadata": {},
   "outputs": [],
   "source": [
    "plt.scatter(time_data,antidiag_dist_data, s = 5)\n",
    "plt.plot([x for x in range(0,250)], [0.25 * x**(3/5) for x in range(0,250)], color = \"orange\")\n",
    "plt.xlabel('Time')\n",
    "plt.ylabel('Distance')\n",
    "\n",
    "# plt.yscale('log')\n",
    "# plt.xscale('log')\n"
   ]
  },
  {
   "cell_type": "code",
   "execution_count": 54,
   "id": "bf478648",
   "metadata": {},
   "outputs": [
    {
     "data": {
      "text/plain": [
       "Text(0, 0.5, 'Distance')"
      ]
     },
     "execution_count": 54,
     "metadata": {},
     "output_type": "execute_result"
    },
    {
     "data": {
      "image/png": "[encoded data removed]",
      "text/plain": [
       "<Figure size 432x288 with 1 Axes>"
      ]
     },
     "metadata": {
      "needs_background": "light"
     },
     "output_type": "display_data"
    }
   ],
   "source": [
    "plt.scatter(time_data,diag_dist_data, s = 5)\n",
    "plt.plot([x for x in range(0,num_points,100)], [1 * x**(2/5) for x in range(0,num_points,100)], color = \"orange\")\n",
    "plt.xlabel('Time')\n",
    "plt.ylabel('Distance')\n",
    "\n",
    "# plt.yscale('log')\n",
    "# plt.xscale('log')"
   ]
  },
  {
   "cell_type": "code",
   "execution_count": 55,
   "id": "08edbd40",
   "metadata": {},
   "outputs": [
    {
     "name": "stdout",
     "output_type": "stream",
     "text": [
      "R-squared: 0.314521\n",
      "0.49093725772678615\n"
     ]
    },
    {
     "data": {
      "text/plain": [
       "Text(0, 0.5, 'log(antidiag distance)')"
      ]
     },
     "execution_count": 55,
     "metadata": {},
     "output_type": "execute_result"
    },
    {
     "data": {
      "image/png": "[encoded data removed]",
      "text/plain": [
       "<Figure size 432x288 with 1 Axes>"
      ]
     },
     "metadata": {
      "needs_background": "light"
     },
     "output_type": "display_data"
    }
   ],
   "source": [
    "import numpy as np\n",
    "import matplotlib.pyplot as plt\n",
    "from scipy import stats\n",
    "rng = np.random.default_rng()\n",
    "# Generate some data:\n",
    "\n",
    "x,y = np.absolute(time_data),np.absolute(antidiag_dist_data)\n",
    "\n",
    "\n",
    "x,y = x[np.logical_and(x>1, y>1)], y[np.logical_and(x>1, y>1)]\n",
    "\n",
    "x,y = np.log(x), np.log(y)\n",
    "# Perform the linear regression:\n",
    "\n",
    "res = stats.linregress(x, y)\n",
    "# Coefficient of determination (R-squared):\n",
    "\n",
    "print(f\"R-squared: {res.rvalue**2:.6f}\")\n",
    "print(res.slope)\n",
    "\n",
    "# R-squared: 0.717533\n",
    "# Plot the data along with the fitted line:\n",
    "\n",
    "plt.scatter(x, y, s = 5)#, 'o', label='original data')\n",
    "plt.plot(x, res.intercept + res.slope*np.array(x), 'r', label='fitted line')\n",
    "\n",
    "plt.xlabel('log(time)')\n",
    "plt.ylabel('log(antidiag distance)')\n",
    "# plt.legend()\n",
    "# plt.show()"
   ]
  },
  {
   "cell_type": "code",
   "execution_count": null,
   "id": "cf4c110f",
   "metadata": {},
   "outputs": [],
   "source": [
    "time_data_new = []\n",
    "dist_data_new = []\n",
    "\n",
    "num_trials = 10**3\n",
    "\n",
    "\n",
    "num_points = 4 * n**2 - 4 * n + 1\n",
    "for trial in range(100):\n",
    "    i = random.randint(0, num_points - 1)\n",
    "    j = 0\n",
    "    \n",
    "    diag = points[i][0] - points[i][1]\n",
    "    \n",
    "    while (i + j < num_points - 1) and (i - j > 0):\n",
    "        j+= 1\n",
    "\n",
    "        if i + j <= num_points - 1 and points[i+j][0] - points[i+j][1] == diag:\n",
    "            time_data_new.append(j)\n",
    "            dist_data_new.append(np.linalg.norm(points[i+j] - points[i], ord = 2))\n",
    "        \n",
    "        if (i - j >= 0) and points[i-j][0] - points[i-j][1] == diag:\n",
    "            time_data_new.append(j)\n",
    "            dist_data_new.append(np.linalg.norm(points[i-j] - points[i], ord = 2))\n",
    "\n",
    "   \n",
    "    \n",
    "    "
   ]
  },
  {
   "cell_type": "code",
   "execution_count": null,
   "id": "667423ca",
   "metadata": {},
   "outputs": [],
   "source": [
    "time_data_new = np.array(time_data_new)\n",
    "dist_data_new = np.array(dist_data_new)\n",
    "isnt_out = np.logical_and(time_data_new < 10**10, dist_data_new < 10**5)\n",
    "plt.scatter(time_data_new ,dist_data_new, s = 5)\n",
    "\n",
    "\n",
    "plt.xlabel('Time')\n",
    "plt.ylabel('Distance')\n",
    "plt.plot([x for x in range(0,80000,100)], [3 * x**(2/5) for x in range(0,80000,100)], color = \"orange\")\n",
    "\n",
    "plt.yscale('log')\n",
    "plt.xscale('log')"
   ]
  },
  {
   "cell_type": "code",
   "execution_count": null,
   "id": "11b204c8",
   "metadata": {},
   "outputs": [],
   "source": [
    "#print(sorted(time_data))\n"
   ]
  },
  {
   "cell_type": "code",
   "execution_count": null,
   "id": "5d56ea83",
   "metadata": {},
   "outputs": [],
   "source": [
    "#print(sorted(dist_data))"
   ]
  },
  {
   "cell_type": "code",
   "execution_count": null,
   "id": "63716cd5",
   "metadata": {},
   "outputs": [],
   "source": []
  },
  {
   "cell_type": "code",
   "execution_count": null,
   "id": "8530e2ca",
   "metadata": {},
   "outputs": [],
   "source": []
  }
 ],
 "metadata": {
  "kernelspec": {
   "display_name": "Python 3",
   "language": "python",
   "name": "python3"
  },
  "language_info": {
   "codemirror_mode": {
    "name": "ipython",
    "version": 3
   },
   "file_extension": ".py",
   "mimetype": "text/x-python",
   "name": "python",
   "nbconvert_exporter": "python",
   "pygments_lexer": "ipython3",
   "version": "3.8.8"
  }
 },
 "nbformat": 4,
 "nbformat_minor": 5
}
