{
 "cells": [
  {
   "cell_type": "code",
   "execution_count": 1,
   "id": "f7ff9af2",
   "metadata": {},
   "outputs": [],
   "source": [
    "from SquareBoard import Board\n",
    "import numpy as np\n",
    "import matplotlib.pyplot as plt\n",
    "import pylab as pl\n",
    "from matplotlib import collections  as mc\n"
   ]
  },
  {
   "cell_type": "code",
   "execution_count": 149,
   "id": "13e2a445",
   "metadata": {},
   "outputs": [],
   "source": [
    "n = 5\n",
    "\n",
    "B = Board(n, 1)\n",
    "\n",
    "\n",
    "\n",
    "tree_segments = []\n",
    "gem_tree_segments = []\n",
    "peano_curve_segments = []\n",
    "peano_curve_matrix = np.empty((4*n, 4*n, 2))\n",
    "for i in range(n):\n",
    "    for j in range(n):\n",
    "        move = B.move_array[i,j]\n",
    "            \n",
    "        place = np.array([i,j])\n",
    "\n",
    "        if i != 0 or j!= 0:\n",
    "\n",
    "            tree_segments.append([place, move])\n",
    "\n",
    "            move_is_horiz = (move[0] == i)\n",
    "            if move_is_horiz:\n",
    "                shift = np.array([-0.5,0.5])\n",
    "            else:\n",
    "                shift = -np.array([-0.5,0.5])\n",
    "\n",
    "            if i != 0 and j != 0:\n",
    "                gem_tree_segments.append([move + shift, place + shift])    \n",
    "\n",
    "for i in range(n-1):\n",
    "    gem_tree_segments.append([(0.5 + i, n - 0.5), (i+1.5, n-0.5)])\n",
    "    gem_tree_segments.append([(n - 0.5, 0.5 + i), (n-0.5, i+1.5)]) \n",
    "\n",
    "for line in np.array(tree_segments):\n",
    "    is_horiz = line[1,0] - line[0,0] == 0 \n",
    "    \n",
    "    if is_horiz:\n",
    "        \n",
    "        x = line[0] + np.array((-0.25,-0.25))\n",
    "        y = line[1] + np.array((-0.25,0.25))\n",
    "        \n",
    "        if np.all(x >= 0):\n",
    "            peano_curve_segments.append([x,y])\n",
    "            peano_curve_matrix[int(4*x[0]), int(4*x[1])] = 4*y\n",
    "            \n",
    "        x = line[0] + np.array((0.25,-0.25))\n",
    "        y = line[1] + np.array((0.25,0.25))\n",
    "        \n",
    "        if np.all(x < n-0.5):\n",
    "            peano_curve_segments.append([y,x])\n",
    "            peano_curve_matrix[int(4*y[0]), int(4*y[1])] = x\n",
    "            \n",
    "                \n",
    "    else:\n",
    "        x = line[0] + np.array((-0.25,-0.25))\n",
    "        y = line[1] + np.array((0.25,-0.25))\n",
    "        \n",
    "        if np.all(y >= 0):\n",
    "            peano_curve_segments.append([y,x])\n",
    "            peano_curve_matrix[int(4*y[0]), int(4*y[1])] = x\n",
    "\n",
    "            \n",
    "        x = line[0] + np.array((-0.25,0.25))\n",
    "        y = line[1] + np.array((0.25,0.25))\n",
    "        \n",
    "        if np.all(y < n-0.5):\n",
    "            peano_curve_segments.append([x,y])    \n",
    "            peano_curve_matrix[int(4*x[0]), int(4*x[1])] = 4*y\n",
    "            \n",
    "for line in np.array(gem_tree_segments):\n",
    "    is_horiz = line[1,0] - line[0,0] == 0 \n",
    "    \n",
    "    if is_horiz:\n",
    "                \n",
    "        x = line[0] + np.array((-0.25,0.25))\n",
    "        y = line[1] + np.array((-0.25,-0.25))\n",
    "        \n",
    "        if np.all(x >= 0):\n",
    "            peano_curve_segments.append([y,x])\n",
    "            peano_curve_matrix[int(4*y[0]), int(4*y[1])] = x\n",
    "            \n",
    "        x = line[0] + np.array((0.25,0.25))\n",
    "        y = line[1] + np.array((0.25,-0.25))\n",
    "        \n",
    "        if np.all(x < n-0.5):\n",
    "            peano_curve_segments.append([x,y])\n",
    "            peano_curve_matrix[int(4*x[0]), int(4*x[1])] = 4*y\n",
    "            \n",
    "                \n",
    "    else:\n",
    "        x = line[0] + np.array((0.25,-0.25))\n",
    "        y = line[1] + np.array((-0.25,-0.25))\n",
    "        \n",
    "        if np.all(y >= 0):\n",
    "            peano_curve_segments.append([x,y])\n",
    "            peano_curve_matrix[int(4*x[0]), int(4*x[1])] = 4*y\n",
    "            \n",
    "        x = line[0] + np.array((0.25,0.25))\n",
    "        y = line[1] + np.array((-0.25,0.25))\n",
    "        \n",
    "        if np.all(y < n-0.5):\n",
    "            peano_curve_segments.append([y,x])\n",
    "            peano_curve_matrix[int(4*y[0]), int(4*y[1])] = 4 * x\n",
    "\n",
    "for i in range(4*n):\n",
    "    for j in range(4*n):\n",
    "        for k in range(2):\n",
    "            peano_curve_matrix[i,j,k] = round(peano_curve_matrix[i,j,k])\n"
   ]
  },
  {
   "cell_type": "code",
   "execution_count": 150,
   "id": "ae40b873",
   "metadata": {},
   "outputs": [],
   "source": [
    "def show_trees(tree_segments, gem_tree_segments, peano_curve_segments):\n",
    "\n",
    "    segments = tree_segments+gem_tree_segments + peano_curve_segments\n",
    "    color_list = [\"blue\" for i in tree_segments] + [\"orange\" for i in gem_tree_segments] + [\"black\" for i in peano_curve_segments]\n",
    "    lc = mc.LineCollection(segments, colors=color_list, linewidths=1)\n",
    "    fig, ax = pl.subplots()\n",
    "    ax.add_collection(lc)\n",
    "    ax.autoscale()\n",
    "    ax.margins(0.1)\n",
    "\n",
    "    plt.axis(\"equal\")\n",
    "    plt.show()"
   ]
  },
  {
   "cell_type": "code",
   "execution_count": 151,
   "id": "5b512675",
   "metadata": {},
   "outputs": [
    {
     "data": {
      "image/png": "[encoded data removed]",
      "text/plain": [
       "<Figure size 432x288 with 1 Axes>"
      ]
     },
     "metadata": {
      "needs_background": "light"
     },
     "output_type": "display_data"
    }
   ],
   "source": [
    "show_trees(tree_segments, gem_tree_segments, peano_curve_segments)\n",
    "\n",
    "    \n",
    "    "
   ]
  },
  {
   "cell_type": "code",
   "execution_count": 164,
   "id": "f76ffe69",
   "metadata": {},
   "outputs": [],
   "source": [
    "#print(peano_curve_matrix[0:10,0:10])\n"
   ]
  },
  {
   "cell_type": "code",
   "execution_count": 1,
   "id": "4496040a",
   "metadata": {},
   "outputs": [
    {
     "ename": "NameError",
     "evalue": "name 'peano_curve_segments' is not defined",
     "output_type": "error",
     "traceback": [
      "\u001b[0;31m---------------------------------------------------------------------------\u001b[0m",
      "\u001b[0;31mNameError\u001b[0m                                 Traceback (most recent call last)",
      "\u001b[0;32m<ipython-input-1-4332f88f3b8e>\u001b[0m in \u001b[0;36m<module>\u001b[0;34m\u001b[0m\n\u001b[0;32m----> 1\u001b[0;31m \u001b[0mpeano_curve\u001b[0m \u001b[0;34m=\u001b[0m \u001b[0;34m[\u001b[0m\u001b[0mpeano_curve_segments\u001b[0m\u001b[0;34m[\u001b[0m\u001b[0;36m0\u001b[0m\u001b[0;34m]\u001b[0m\u001b[0;34m]\u001b[0m \u001b[0;31m#will be list of points in order\u001b[0m\u001b[0;34m\u001b[0m\u001b[0;34m\u001b[0m\u001b[0m\n\u001b[0m\u001b[1;32m      2\u001b[0m \u001b[0;34m\u001b[0m\u001b[0m\n\u001b[1;32m      3\u001b[0m \u001b[0mpeano_curve_segments\u001b[0m \u001b[0;34m=\u001b[0m \u001b[0mnp\u001b[0m\u001b[0;34m.\u001b[0m\u001b[0marray\u001b[0m\u001b[0;34m(\u001b[0m\u001b[0mpeano_curve_segments\u001b[0m\u001b[0;34m[\u001b[0m\u001b[0;36m1\u001b[0m\u001b[0;34m:\u001b[0m\u001b[0;34m]\u001b[0m\u001b[0;34m)\u001b[0m\u001b[0;34m\u001b[0m\u001b[0;34m\u001b[0m\u001b[0m\n\u001b[1;32m      4\u001b[0m \u001b[0;34m\u001b[0m\u001b[0m\n\u001b[1;32m      5\u001b[0m \u001b[0;34m\u001b[0m\u001b[0m\n",
      "\u001b[0;31mNameError\u001b[0m: name 'peano_curve_segments' is not defined"
     ]
    }
   ],
   "source": [
    "peano_curve = [peano_curve_segments[0]] #will be list of points in order\n",
    "\n",
    "peano_curve_segments = np.array(peano_curve_segments[1:])\n",
    "\n",
    "\n",
    "while len(peano_curve_segments) > 0:\n",
    "    i = 0\n",
    "    cond = False\n",
    "    while not cond and i < np.shape(peano_curve_segments)[0]:\n",
    "        \n",
    "        seg = peano_curve_segments[i]\n",
    "                   \n",
    "        if np.all(seg[0] == peano_curve[-1][1]):\n",
    "            peano_curve.append(seg)\n",
    "            peano_curve_segments = np.delete(peano_curve_segments,i,axis = 0)\n",
    "            print(1)\n",
    "            cond = True\n",
    "        elif np.all(seg[1] == peano_curve[0][0]):\n",
    "            peano_curve = [seg] + peano_curve\n",
    "            peano_curve_segments = np.delete(peano_curve_segments,i, axis = 0)\n",
    "            print(2)\n",
    "            cond = True\n",
    "            \n",
    "        elif np.all(seg[1] == peano_curve[-1][1]):\n",
    "            peano_curve.append(np.flip(seg))\n",
    "            peano_curve_segments = np.delete(peano_curve_segments,i,axis = 0)\n",
    "            print(1)\n",
    "            cond = True\n",
    "        elif np.all(seg[0] == peano_curve[0][0]):\n",
    "            peano_curve = [np.flip(seg)] + peano_curve\n",
    "            peano_curve_segments = np.delete(peano_curve_segments,i, axis = 0)\n",
    "            print(2)\n",
    "            cond = True\n",
    "        i+=1\n",
    "\n",
    "            \n",
    "print(peano_curve)"
   ]
  },
  {
   "cell_type": "code",
   "execution_count": null,
   "id": "ceb0fb4b",
   "metadata": {},
   "outputs": [],
   "source": []
  },
  {
   "cell_type": "code",
   "execution_count": null,
   "id": "05c7e759",
   "metadata": {},
   "outputs": [],
   "source": []
  }
 ],
 "metadata": {
  "kernelspec": {
   "display_name": "Python 3",
   "language": "python",
   "name": "python3"
  },
  "language_info": {
   "codemirror_mode": {
    "name": "ipython",
    "version": 3
   },
   "file_extension": ".py",
   "mimetype": "text/x-python",
   "name": "python",
   "nbconvert_exporter": "python",
   "pygments_lexer": "ipython3",
   "version": "3.8.8"
  }
 },
 "nbformat": 4,
 "nbformat_minor": 5
}
