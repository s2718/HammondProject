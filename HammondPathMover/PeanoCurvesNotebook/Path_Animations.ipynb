{
 "cells": [
  {
   "cell_type": "code",
   "execution_count": 1,
   "id": "db4cf422",
   "metadata": {},
   "outputs": [],
   "source": [
    "import numpy as np\n",
    "# import matplotlib.pyplot as plt\n",
    "import pylab as pl\n",
    "from matplotlib import collections  as mc\n",
    "import copy\n",
    "from importlib import reload"
   ]
  },
  {
   "cell_type": "code",
   "execution_count": 2,
   "id": "f19c8d9e",
   "metadata": {},
   "outputs": [],
   "source": [
    "%load_ext autoreload\n",
    "%autoreload 2\n",
    "%reload_ext autoreload\n",
    "\n",
    "from SquareBoard import Board\n",
    "\n",
    "\n"
   ]
  },
  {
   "cell_type": "code",
   "execution_count": 3,
   "id": "3c4bc1a5",
   "metadata": {},
   "outputs": [],
   "source": [
    "B = Board(50,3)\n",
    "#print(B)"
   ]
  },
  {
   "cell_type": "code",
   "execution_count": 4,
   "id": "9d71abcf",
   "metadata": {},
   "outputs": [
    {
     "name": "stdout",
     "output_type": "stream",
     "text": [
      "[79. 79. 79. 78. 75. 73. 73. 73. 72. 72. 71. 70. 70. 68. 67. 68. 66. 66.\n",
      " 64. 59. 62. 62. 61. 59. 58. 58. 58. 55. 53. 52. 51. 45. 45. 44. 44. 41.\n",
      " 41. 41. 42. 39. 38. 38. 34. 31. 30. 29. 23. 20.]\n"
     ]
    }
   ],
   "source": [
    "print(np.array(list(B.moving_end_point()))[:,0])"
   ]
  },
  {
   "cell_type": "code",
   "execution_count": 5,
   "id": "61d02221",
   "metadata": {},
   "outputs": [
    {
     "ename": "KeyboardInterrupt",
     "evalue": "",
     "output_type": "error",
     "traceback": [
      "\u001b[0;31m---------------------------------------------------------------------------\u001b[0m",
      "\u001b[0;31mKeyboardInterrupt\u001b[0m                         Traceback (most recent call last)",
      "\u001b[0;32m<ipython-input-5-1ce644d2f6ef>\u001b[0m in \u001b[0;36m<module>\u001b[0;34m\u001b[0m\n\u001b[1;32m      4\u001b[0m \u001b[0;32mfor\u001b[0m \u001b[0m_\u001b[0m \u001b[0;32min\u001b[0m \u001b[0mrange\u001b[0m\u001b[0;34m(\u001b[0m\u001b[0mnum_frames\u001b[0m\u001b[0;34m)\u001b[0m\u001b[0;34m:\u001b[0m\u001b[0;34m\u001b[0m\u001b[0;34m\u001b[0m\u001b[0m\n\u001b[1;32m      5\u001b[0m     \u001b[0mframes\u001b[0m\u001b[0;34m.\u001b[0m\u001b[0mappend\u001b[0m\u001b[0;34m(\u001b[0m\u001b[0mnp\u001b[0m\u001b[0;34m.\u001b[0m\u001b[0marray\u001b[0m\u001b[0;34m(\u001b[0m\u001b[0mlist\u001b[0m\u001b[0;34m(\u001b[0m\u001b[0mB\u001b[0m\u001b[0;34m.\u001b[0m\u001b[0mmoving_end_point\u001b[0m\u001b[0;34m(\u001b[0m\u001b[0;34m)\u001b[0m\u001b[0;34m)\u001b[0m\u001b[0;34m)\u001b[0m\u001b[0;34m)\u001b[0m\u001b[0;34m\u001b[0m\u001b[0;34m\u001b[0m\u001b[0m\n\u001b[0;32m----> 6\u001b[0;31m     \u001b[0mB\u001b[0m\u001b[0;34m.\u001b[0m\u001b[0mflip_random_and_update\u001b[0m\u001b[0;34m(\u001b[0m\u001b[0;34m)\u001b[0m\u001b[0;34m\u001b[0m\u001b[0;34m\u001b[0m\u001b[0m\n\u001b[0m\u001b[1;32m      7\u001b[0m \u001b[0;34m\u001b[0m\u001b[0m\n\u001b[1;32m      8\u001b[0m \u001b[0mframes\u001b[0m \u001b[0;34m=\u001b[0m \u001b[0mnp\u001b[0m\u001b[0;34m.\u001b[0m\u001b[0marray\u001b[0m\u001b[0;34m(\u001b[0m\u001b[0mframes\u001b[0m\u001b[0;34m)\u001b[0m\u001b[0;34m\u001b[0m\u001b[0;34m\u001b[0m\u001b[0m\n",
      "\u001b[0;32m~/Documents/HammondProjectFolder/HammondPathMover/PeanoCurvesNotebook/SquareBoard.py\u001b[0m in \u001b[0;36mflip_random_and_update\u001b[0;34m(self)\u001b[0m\n\u001b[1;32m    267\u001b[0m         \u001b[0;32mfor\u001b[0m \u001b[0mind\u001b[0m \u001b[0;32min\u001b[0m \u001b[0mself\u001b[0m\u001b[0;34m.\u001b[0m\u001b[0mfind_inds_from_bodyind\u001b[0m\u001b[0;34m(\u001b[0m\u001b[0mi\u001b[0m\u001b[0;34m)\u001b[0m\u001b[0;34m:\u001b[0m\u001b[0;34m\u001b[0m\u001b[0;34m\u001b[0m\u001b[0m\n\u001b[1;32m    268\u001b[0m             \u001b[0mupdate_inds\u001b[0m\u001b[0;34m.\u001b[0m\u001b[0madd\u001b[0m\u001b[0;34m(\u001b[0m\u001b[0mtuple\u001b[0m\u001b[0;34m(\u001b[0m\u001b[0mind\u001b[0m\u001b[0;34m)\u001b[0m\u001b[0;34m)\u001b[0m\u001b[0;34m\u001b[0m\u001b[0;34m\u001b[0m\u001b[0m\n\u001b[0;32m--> 269\u001b[0;31m         \u001b[0mself\u001b[0m\u001b[0;34m.\u001b[0m\u001b[0mupdatepath_array_from_inds\u001b[0m\u001b[0;34m(\u001b[0m\u001b[0mupdate_inds\u001b[0m\u001b[0;34m,\u001b[0m \u001b[0mis_init\u001b[0m \u001b[0;34m=\u001b[0m \u001b[0;32mFalse\u001b[0m\u001b[0;34m)\u001b[0m\u001b[0;34m\u001b[0m\u001b[0;34m\u001b[0m\u001b[0m\n\u001b[0m\u001b[1;32m    270\u001b[0m \u001b[0;34m\u001b[0m\u001b[0m\n\u001b[1;32m    271\u001b[0m     \u001b[0;32mdef\u001b[0m \u001b[0mfind_inds_from_bodyind\u001b[0m\u001b[0;34m(\u001b[0m\u001b[0mself\u001b[0m\u001b[0;34m,\u001b[0m\u001b[0mbody_ind\u001b[0m\u001b[0;34m)\u001b[0m\u001b[0;34m:\u001b[0m\u001b[0;34m\u001b[0m\u001b[0;34m\u001b[0m\u001b[0m\n",
      "\u001b[0;32m~/Documents/HammondProjectFolder/HammondPathMover/PeanoCurvesNotebook/SquareBoard.py\u001b[0m in \u001b[0;36mupdatepath_array_from_inds\u001b[0;34m(self, inds, is_init)\u001b[0m\n\u001b[1;32m    162\u001b[0m                 \u001b[0mnum_calls\u001b[0m \u001b[0;34m+=\u001b[0m \u001b[0;36m1\u001b[0m\u001b[0;34m\u001b[0m\u001b[0;34m\u001b[0m\u001b[0m\n\u001b[1;32m    163\u001b[0m \u001b[0;34m\u001b[0m\u001b[0m\n\u001b[0;32m--> 164\u001b[0;31m                 \u001b[0mhas_changed\u001b[0m \u001b[0;34m=\u001b[0m \u001b[0mself\u001b[0m\u001b[0;34m.\u001b[0m\u001b[0mupdatepath_array_at\u001b[0m\u001b[0;34m(\u001b[0m\u001b[0mind\u001b[0m\u001b[0;34m)\u001b[0m\u001b[0;34m\u001b[0m\u001b[0;34m\u001b[0m\u001b[0m\n\u001b[0m\u001b[1;32m    165\u001b[0m \u001b[0;34m\u001b[0m\u001b[0m\n\u001b[1;32m    166\u001b[0m                 \u001b[0;32mif\u001b[0m \u001b[0mhas_changed\u001b[0m \u001b[0;32mor\u001b[0m \u001b[0mis_init\u001b[0m\u001b[0;34m:\u001b[0m\u001b[0;34m\u001b[0m\u001b[0;34m\u001b[0m\u001b[0m\n",
      "\u001b[0;32m~/Documents/HammondProjectFolder/HammondPathMover/PeanoCurvesNotebook/SquareBoard.py\u001b[0m in \u001b[0;36mupdatepath_array_at\u001b[0;34m(self, i)\u001b[0m\n\u001b[1;32m    145\u001b[0m \u001b[0;34m\u001b[0m\u001b[0m\n\u001b[1;32m    146\u001b[0m \u001b[0;34m\u001b[0m\u001b[0m\n\u001b[0;32m--> 147\u001b[0;31m             \u001b[0mself\u001b[0m\u001b[0;34m.\u001b[0m\u001b[0mmove_array\u001b[0m\u001b[0;34m[\u001b[0m\u001b[0mi\u001b[0m\u001b[0;34m]\u001b[0m \u001b[0;34m=\u001b[0m \u001b[0mbest_move\u001b[0m\u001b[0;34m\u001b[0m\u001b[0;34m\u001b[0m\u001b[0m\n\u001b[0m\u001b[1;32m    148\u001b[0m             \u001b[0mnew_score\u001b[0m \u001b[0;34m+=\u001b[0m \u001b[0mbest_move_score\u001b[0m\u001b[0;34m\u001b[0m\u001b[0;34m\u001b[0m\u001b[0m\n\u001b[1;32m    149\u001b[0m \u001b[0;34m\u001b[0m\u001b[0m\n",
      "\u001b[0;31mKeyboardInterrupt\u001b[0m: "
     ]
    }
   ],
   "source": [
    "num_frames = 10**3\n",
    "\n",
    "frames = []\n",
    "for _ in range(num_frames):\n",
    "    frames.append(np.array(list(B.moving_end_point())))\n",
    "    B.flip_random_and_update()\n",
    "\n",
    "frames = np.array(frames)"
   ]
  },
  {
   "cell_type": "code",
   "execution_count": null,
   "id": "db45b73a",
   "metadata": {},
   "outputs": [],
   "source": [
    "# importing all necessary libraries\n",
    "from itertools import count\n",
    "import random\n",
    "import matplotlib\n",
    "from matplotlib import animation\n",
    "import matplotlib.pyplot as plt\n",
    "from matplotlib.animation import FuncAnimation\n",
    "\n",
    "\n",
    "%matplotlib notebook\n",
    " \n",
    "    \n",
    "fig = plt.figure()\n",
    "axes = plt.axes(xlim=(0, B.size + 1), ylim=(0, 2 * B.size + 1))\n",
    "\n",
    "x = np.array([i for i in range(1, B.size + 2 - B.ensemble_size)])\n",
    "\n",
    " \n",
    "# subplots() function you can draw\n",
    "# multiple plots in one figure\n",
    "#fig, axes = plt.subplots(nrows=1, ncols=1, figsize=(10, 10))\n",
    " \n",
    "# set limit for x and y axis\n",
    "\n",
    " \n",
    "# style for plotting line\n",
    "plt.style.use(\"ggplot\")\n",
    " \n",
    "\n",
    " \n",
    "def animate(i):\n",
    "    \n",
    "    y1 = frames[i,:,0]\n",
    "    y2 = frames[i,:,1]\n",
    "    y3 = frames[i,:,2]\n",
    "\n",
    "    \n",
    "    axes.clear()\n",
    "    \n",
    "    axes.set_ylim(0, 2 * B.size + 2)\n",
    "    axes.set_xlim(0, B.size)\n",
    " \n",
    "    axes.plot(x, y1, color=\"green\")\n",
    "    axes.plot(x, y2, color=\"yellow\")\n",
    "    axes.plot(x, y3, color=\"blue\")\n",
    "\n",
    "\n",
    " \n",
    " \n",
    "# set ani variable to call the\n",
    "# function recursively\n",
    "anim = animation.FuncAnimation(fig, animate, frames=1000, interval=20, blit=True)\n",
    "\n",
    "#anim = FuncAnimation(fig, animate, interval=30)\n",
    "\n",
    "  \n",
    "# saving to m4 using ffmpeg writer\n",
    "anim.save('3path.gif')\n",
    "plt.close()\n"
   ]
  },
  {
   "cell_type": "code",
   "execution_count": null,
   "id": "4eaa96f9",
   "metadata": {},
   "outputs": [],
   "source": []
  }
 ],
 "metadata": {
  "kernelspec": {
   "display_name": "Python 3",
   "language": "python",
   "name": "python3"
  },
  "language_info": {
   "codemirror_mode": {
    "name": "ipython",
    "version": 3
   },
   "file_extension": ".py",
   "mimetype": "text/x-python",
   "name": "python",
   "nbconvert_exporter": "python",
   "pygments_lexer": "ipython3",
   "version": "3.8.8"
  }
 },
 "nbformat": 4,
 "nbformat_minor": 5
}
